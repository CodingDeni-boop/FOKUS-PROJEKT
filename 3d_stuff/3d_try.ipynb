{
 "cells": [
  {
   "cell_type": "code",
   "execution_count": 71,
   "id": "de5dfc6b",
   "metadata": {},
   "outputs": [],
   "source": [
    "import py3r.behaviour as py3r"
   ]
  },
  {
   "cell_type": "code",
   "execution_count": 72,
   "id": "3dad0c70",
   "metadata": {},
   "outputs": [],
   "source": [
    "from py3r.behaviour.util import three_d_utils as td"
   ]
  },
  {
   "cell_type": "code",
   "execution_count": 73,
   "id": "730bc121",
   "metadata": {},
   "outputs": [
    {
     "data": {
      "text/plain": [
       "'/Users/user/Desktop/FOKUS-PROJEKT/3d_stuff'"
      ]
     },
     "execution_count": 73,
     "metadata": {},
     "output_type": "execute_result"
    }
   ],
   "source": [
    "import os\n",
    "os.getcwd()"
   ]
  },
  {
   "cell_type": "code",
   "execution_count": 74,
   "id": "7a7b720c",
   "metadata": {},
   "outputs": [
    {
     "name": "stderr",
     "output_type": "stream",
     "text": [
      "OpenCV: Couldn't read video stream from file \"C:/Users/admin/Desktop/2024 FP data/03.03.2025/calibration_camera-1.avi\"\n",
      "OpenCV: Couldn't read video stream from file \"C:/Users/admin/Desktop/2024 FP data/03.03.2025/calibration_camera-2.avi\"\n"
     ]
    },
    {
     "ename": "ValueError",
     "evalue": "Not enough frames in the videos to extract 200 images.",
     "output_type": "error",
     "traceback": [
      "\u001b[31m---------------------------------------------------------------------------\u001b[39m",
      "\u001b[31mValueError\u001b[39m                                Traceback (most recent call last)",
      "\u001b[36mCell\u001b[39m\u001b[36m \u001b[39m\u001b[32mIn[74]\u001b[39m\u001b[32m, line 1\u001b[39m\n\u001b[32m----> \u001b[39m\u001b[32m1\u001b[39m \u001b[43mtd\u001b[49m\u001b[43m.\u001b[49m\u001b[43mextract_calibration_images\u001b[49m\u001b[43m(\u001b[49m\u001b[33;43m\"\u001b[39;49m\u001b[33;43mC:/Users/admin/Desktop/2024 FP data/03.03.2025/calibration_camera-1.avi\u001b[39;49m\u001b[33;43m\"\u001b[39;49m\u001b[43m,\u001b[49m\u001b[43m \u001b[49m\u001b[33;43m\"\u001b[39;49m\u001b[33;43mC:/Users/admin/Desktop/2024 FP data/03.03.2025/calibration_camera-2.avi\u001b[39;49m\u001b[33;43m\"\u001b[39;49m\u001b[43m,\u001b[49m\u001b[43m \u001b[49m\u001b[33;43m\"\u001b[39;49m\u001b[33;43m./left_output\u001b[39;49m\u001b[33;43m\"\u001b[39;49m\u001b[43m,\u001b[49m\u001b[33;43m\"\u001b[39;49m\u001b[33;43m./right_output\u001b[39;49m\u001b[33;43m\"\u001b[39;49m\u001b[43m,\u001b[49m\u001b[43m \u001b[49m\u001b[43mchessboard_size\u001b[49m\u001b[43m \u001b[49m\u001b[43m=\u001b[49m\u001b[43m \u001b[49m\u001b[43m(\u001b[49m\u001b[32;43m8\u001b[39;49m\u001b[43m,\u001b[49m\u001b[32;43m6\u001b[39;49m\u001b[43m)\u001b[49m\u001b[43m,\u001b[49m\n\u001b[32m      2\u001b[39m \u001b[43mmin_sharpness\u001b[49m\u001b[43m=\u001b[49m\u001b[32;43m0\u001b[39;49m\u001b[43m,\u001b[49m\n\u001b[32m      3\u001b[39m \u001b[43mmax_anisotropy\u001b[49m\u001b[43m=\u001b[49m\u001b[32;43m10000\u001b[39;49m\u001b[43m,\u001b[49m\n\u001b[32m      4\u001b[39m \u001b[43mmin_edge_density\u001b[49m\u001b[43m=\u001b[49m\u001b[32;43m0.000001\u001b[39;49m\u001b[43m)\u001b[49m\n",
      "\u001b[36mFile \u001b[39m\u001b[32m~/Desktop/FOKUS_PRIVATE/py3r_behaviour/src/py3r/behaviour/util/three_d_utils.py:127\u001b[39m, in \u001b[36mextract_calibration_images\u001b[39m\u001b[34m(video1_path, video2_path, out_dir1, out_dir2, num_images, chessboard_size, min_sharpness, max_anisotropy, min_edge_density)\u001b[39m\n\u001b[32m    123\u001b[39m n_frames = \u001b[38;5;28mint\u001b[39m(\n\u001b[32m    124\u001b[39m     \u001b[38;5;28mmin\u001b[39m(cap1.get(cv2.CAP_PROP_FRAME_COUNT), cap2.get(cv2.CAP_PROP_FRAME_COUNT))\n\u001b[32m    125\u001b[39m )\n\u001b[32m    126\u001b[39m \u001b[38;5;28;01mif\u001b[39;00m n_frames < num_images:\n\u001b[32m--> \u001b[39m\u001b[32m127\u001b[39m     \u001b[38;5;28;01mraise\u001b[39;00m \u001b[38;5;167;01mValueError\u001b[39;00m(\n\u001b[32m    128\u001b[39m         \u001b[33mf\u001b[39m\u001b[33m\"\u001b[39m\u001b[33mNot enough frames in the videos to extract \u001b[39m\u001b[38;5;132;01m{\u001b[39;00mnum_images\u001b[38;5;132;01m}\u001b[39;00m\u001b[33m images.\u001b[39m\u001b[33m\"\u001b[39m\n\u001b[32m    129\u001b[39m     )\n\u001b[32m    130\u001b[39m indices = np.linspace(\u001b[32m0\u001b[39m, n_frames - \u001b[32m1\u001b[39m, num_images, dtype=\u001b[38;5;28mint\u001b[39m)\n\u001b[32m    131\u001b[39m saved = \u001b[32m0\u001b[39m\n",
      "\u001b[31mValueError\u001b[39m: Not enough frames in the videos to extract 200 images."
     ]
    }
   ],
   "source": [
    "td.extract_calibration_images(\"C:/Users/admin/Desktop/2024 FP data/03.03.2025/calibration_camera-1.avi\", \"C:/Users/admin/Desktop/2024 FP data/03.03.2025/calibration_camera-2.avi\", \"./left_output\",\"./right_output\", chessboard_size = (8,6),\n",
    "min_sharpness=0,\n",
    "max_anisotropy=10000,\n",
    "min_edge_density=0.000001)"
   ]
  },
  {
   "cell_type": "code",
   "execution_count": null,
   "id": "965d9032",
   "metadata": {},
   "outputs": [
    {
     "name": "stdout",
     "output_type": "stream",
     "text": [
      "Calibration saved to ./calibration.json with views: left_output, right_output\n"
     ]
    }
   ],
   "source": [
    "td.calibrate_stereo_system(\"./left_output\",\"./right_output\",(8,6),0.03, \"./calibration.json\")"
   ]
  },
  {
   "cell_type": "code",
   "execution_count": 75,
   "id": "97495c09",
   "metadata": {},
   "outputs": [],
   "source": [
    "from py3r.behaviour.tracking.tracking import LoadOptions as opt\n",
    "\n",
    "options = opt(fps=30)"
   ]
  },
  {
   "cell_type": "code",
   "execution_count": 76,
   "id": "2888b99e",
   "metadata": {},
   "outputs": [],
   "source": [
    "import json\n",
    "\n",
    "with open('calibration.json') as f:\n",
    "    calibration = json.load(f)"
   ]
  },
  {
   "cell_type": "code",
   "execution_count": 77,
   "id": "c64d424d",
   "metadata": {},
   "outputs": [],
   "source": [
    "from py3r.behaviour.tracking.tracking_mv import TrackingMV as mv\n",
    "\n",
    "test = mv.from_yolo3r({\"left_output\":\"oft_tracking/Empty_Cage/Empty_Cage_Left/1_Empty_Cage_Left_Sync.csv\", \"right_output\":\"oft_tracking/Empty_Cage/Empty_Cage_Right/1_Empty_Cage_Right_Sync.csv\"},\"1_Empty_Cage_multiview\",\n",
    "                      options,calibration)"
   ]
  },
  {
   "cell_type": "code",
   "execution_count": 78,
   "id": "2a0e1dab",
   "metadata": {},
   "outputs": [
    {
     "data": {
      "text/plain": [
       "{'views': {'left_output': {'K': [[1258.4939885943727, 0.0, 655.3579291157758],\n",
       "    [0.0, 1258.2801290096213, 509.1000476008892],\n",
       "    [0.0, 0.0, 1.0]],\n",
       "   'dist': [[-0.5515009811671181,\n",
       "     0.5781636665271928,\n",
       "     -0.001643548714124342,\n",
       "     0.0037264487542169136,\n",
       "     -0.40246624215916277]]},\n",
       "  'right_output': {'K': [[1258.4939885943727, 0.0, 655.3579291157758],\n",
       "    [0.0, 1258.2801290096213, 509.1000476008892],\n",
       "    [0.0, 0.0, 1.0]],\n",
       "   'dist': [[-0.5515009811671181,\n",
       "     0.5781636665271928,\n",
       "     -0.001643548714124342,\n",
       "     0.0037264487542169136,\n",
       "     -0.40246624215916277]]}},\n",
       " 'relative_pose': {'R': [[0.9987219358926075,\n",
       "    -0.0007670268613101093,\n",
       "    -0.050536189376686386],\n",
       "   [-0.0009897220653084478, 0.999396310897444, -0.034728003323152366],\n",
       "   [0.0505323185412635, 0.03473363549030636, 0.9981182592000162]],\n",
       "  'T': [[11.991812240469235], [0.6439511868380962], [1.239601519329197]]},\n",
       " 'image_size': [1280, 1024],\n",
       " 'view_order': ['left_output', 'right_output']}"
      ]
     },
     "execution_count": 78,
     "metadata": {},
     "output_type": "execute_result"
    }
   ],
   "source": [
    "test.calibration"
   ]
  },
  {
   "cell_type": "code",
   "execution_count": 79,
   "id": "d73b9a46",
   "metadata": {},
   "outputs": [],
   "source": [
    "test3d = test.stereo_triangulate()\n"
   ]
  },
  {
   "cell_type": "code",
   "execution_count": 80,
   "id": "01c5ef32",
   "metadata": {},
   "outputs": [
    {
     "data": {
      "text/html": [
       "<div>\n",
       "<style scoped>\n",
       "    .dataframe tbody tr th:only-of-type {\n",
       "        vertical-align: middle;\n",
       "    }\n",
       "\n",
       "    .dataframe tbody tr th {\n",
       "        vertical-align: top;\n",
       "    }\n",
       "\n",
       "    .dataframe thead th {\n",
       "        text-align: right;\n",
       "    }\n",
       "</style>\n",
       "<table border=\"1\" class=\"dataframe\">\n",
       "  <thead>\n",
       "    <tr style=\"text-align: right;\">\n",
       "      <th></th>\n",
       "      <th>oft_3d.oft_3d_0.bl.x</th>\n",
       "      <th>oft_3d.oft_3d_0.bl.y</th>\n",
       "      <th>oft_3d.oft_3d_0.bl.z</th>\n",
       "      <th>oft_3d.oft_3d_0.bl.likelihood</th>\n",
       "      <th>mouse_top.mouse_top_0.hipl.x</th>\n",
       "      <th>mouse_top.mouse_top_0.hipl.y</th>\n",
       "      <th>mouse_top.mouse_top_0.hipl.z</th>\n",
       "      <th>mouse_top.mouse_top_0.hipl.likelihood</th>\n",
       "      <th>mouse_top.mouse_top_0.tailtip.x</th>\n",
       "      <th>mouse_top.mouse_top_0.tailtip.y</th>\n",
       "      <th>...</th>\n",
       "      <th>mouse_top.mouse_top_0.hipr.z</th>\n",
       "      <th>mouse_top.mouse_top_0.hipr.likelihood</th>\n",
       "      <th>mouse_top.mouse_top_0.tailbase.x</th>\n",
       "      <th>mouse_top.mouse_top_0.tailbase.y</th>\n",
       "      <th>mouse_top.mouse_top_0.tailbase.z</th>\n",
       "      <th>mouse_top.mouse_top_0.tailbase.likelihood</th>\n",
       "      <th>mouse_top.mouse_top_0.earr.x</th>\n",
       "      <th>mouse_top.mouse_top_0.earr.y</th>\n",
       "      <th>mouse_top.mouse_top_0.earr.z</th>\n",
       "      <th>mouse_top.mouse_top_0.earr.likelihood</th>\n",
       "    </tr>\n",
       "    <tr>\n",
       "      <th>frame</th>\n",
       "      <th></th>\n",
       "      <th></th>\n",
       "      <th></th>\n",
       "      <th></th>\n",
       "      <th></th>\n",
       "      <th></th>\n",
       "      <th></th>\n",
       "      <th></th>\n",
       "      <th></th>\n",
       "      <th></th>\n",
       "      <th></th>\n",
       "      <th></th>\n",
       "      <th></th>\n",
       "      <th></th>\n",
       "      <th></th>\n",
       "      <th></th>\n",
       "      <th></th>\n",
       "      <th></th>\n",
       "      <th></th>\n",
       "      <th></th>\n",
       "      <th></th>\n",
       "    </tr>\n",
       "  </thead>\n",
       "  <tbody>\n",
       "    <tr>\n",
       "      <th>0</th>\n",
       "      <td>-12.691904</td>\n",
       "      <td>8.130167</td>\n",
       "      <td>-39.662663</td>\n",
       "      <td>0.593689</td>\n",
       "      <td>-3.369111</td>\n",
       "      <td>-0.634645</td>\n",
       "      <td>-39.940948</td>\n",
       "      <td>0.990868</td>\n",
       "      <td>-5.254699</td>\n",
       "      <td>-3.813727</td>\n",
       "      <td>...</td>\n",
       "      <td>-39.823196</td>\n",
       "      <td>0.991660</td>\n",
       "      <td>-4.168034</td>\n",
       "      <td>-1.209164</td>\n",
       "      <td>-40.272961</td>\n",
       "      <td>0.996973</td>\n",
       "      <td>-3.354022</td>\n",
       "      <td>0.757436</td>\n",
       "      <td>-39.198807</td>\n",
       "      <td>0.955978</td>\n",
       "    </tr>\n",
       "    <tr>\n",
       "      <th>1</th>\n",
       "      <td>-12.820238</td>\n",
       "      <td>8.301777</td>\n",
       "      <td>-40.029804</td>\n",
       "      <td>0.554937</td>\n",
       "      <td>-3.345030</td>\n",
       "      <td>-0.649570</td>\n",
       "      <td>-40.035324</td>\n",
       "      <td>0.986213</td>\n",
       "      <td>-5.271811</td>\n",
       "      <td>-3.801921</td>\n",
       "      <td>...</td>\n",
       "      <td>-39.828449</td>\n",
       "      <td>0.982737</td>\n",
       "      <td>-4.148322</td>\n",
       "      <td>-1.222522</td>\n",
       "      <td>-40.206238</td>\n",
       "      <td>0.991170</td>\n",
       "      <td>-3.437767</td>\n",
       "      <td>0.726186</td>\n",
       "      <td>-39.485485</td>\n",
       "      <td>0.947386</td>\n",
       "    </tr>\n",
       "    <tr>\n",
       "      <th>2</th>\n",
       "      <td>-12.798316</td>\n",
       "      <td>8.261558</td>\n",
       "      <td>-39.985592</td>\n",
       "      <td>0.552241</td>\n",
       "      <td>-3.322074</td>\n",
       "      <td>-0.667130</td>\n",
       "      <td>-40.176029</td>\n",
       "      <td>0.994684</td>\n",
       "      <td>-5.245333</td>\n",
       "      <td>-3.776474</td>\n",
       "      <td>...</td>\n",
       "      <td>-39.798447</td>\n",
       "      <td>0.993301</td>\n",
       "      <td>-4.115750</td>\n",
       "      <td>-1.227598</td>\n",
       "      <td>-40.146427</td>\n",
       "      <td>0.994142</td>\n",
       "      <td>-3.547476</td>\n",
       "      <td>0.646108</td>\n",
       "      <td>-40.173813</td>\n",
       "      <td>0.987677</td>\n",
       "    </tr>\n",
       "    <tr>\n",
       "      <th>3</th>\n",
       "      <td>-12.797227</td>\n",
       "      <td>8.251948</td>\n",
       "      <td>-39.971657</td>\n",
       "      <td>0.552694</td>\n",
       "      <td>-3.304535</td>\n",
       "      <td>-0.671159</td>\n",
       "      <td>-40.133759</td>\n",
       "      <td>0.995407</td>\n",
       "      <td>-5.219857</td>\n",
       "      <td>-3.816592</td>\n",
       "      <td>...</td>\n",
       "      <td>-39.862801</td>\n",
       "      <td>0.994313</td>\n",
       "      <td>-4.088741</td>\n",
       "      <td>-1.258357</td>\n",
       "      <td>-40.254684</td>\n",
       "      <td>0.993935</td>\n",
       "      <td>-3.728678</td>\n",
       "      <td>0.534665</td>\n",
       "      <td>-39.913300</td>\n",
       "      <td>0.996328</td>\n",
       "    </tr>\n",
       "    <tr>\n",
       "      <th>4</th>\n",
       "      <td>-12.803179</td>\n",
       "      <td>8.287708</td>\n",
       "      <td>-39.965820</td>\n",
       "      <td>0.552936</td>\n",
       "      <td>-3.301585</td>\n",
       "      <td>-0.674985</td>\n",
       "      <td>-40.125671</td>\n",
       "      <td>0.995498</td>\n",
       "      <td>-5.226665</td>\n",
       "      <td>-3.831262</td>\n",
       "      <td>...</td>\n",
       "      <td>-39.943195</td>\n",
       "      <td>0.994559</td>\n",
       "      <td>-4.083255</td>\n",
       "      <td>-1.271878</td>\n",
       "      <td>-40.232937</td>\n",
       "      <td>0.993917</td>\n",
       "      <td>-3.870338</td>\n",
       "      <td>0.401776</td>\n",
       "      <td>-39.551277</td>\n",
       "      <td>0.999238</td>\n",
       "    </tr>\n",
       "  </tbody>\n",
       "</table>\n",
       "<p>5 rows × 84 columns</p>\n",
       "</div>"
      ],
      "text/plain": [
       "       oft_3d.oft_3d_0.bl.x  oft_3d.oft_3d_0.bl.y  oft_3d.oft_3d_0.bl.z  \\\n",
       "frame                                                                     \n",
       "0                -12.691904              8.130167            -39.662663   \n",
       "1                -12.820238              8.301777            -40.029804   \n",
       "2                -12.798316              8.261558            -39.985592   \n",
       "3                -12.797227              8.251948            -39.971657   \n",
       "4                -12.803179              8.287708            -39.965820   \n",
       "\n",
       "       oft_3d.oft_3d_0.bl.likelihood  mouse_top.mouse_top_0.hipl.x  \\\n",
       "frame                                                                \n",
       "0                           0.593689                     -3.369111   \n",
       "1                           0.554937                     -3.345030   \n",
       "2                           0.552241                     -3.322074   \n",
       "3                           0.552694                     -3.304535   \n",
       "4                           0.552936                     -3.301585   \n",
       "\n",
       "       mouse_top.mouse_top_0.hipl.y  mouse_top.mouse_top_0.hipl.z  \\\n",
       "frame                                                               \n",
       "0                         -0.634645                    -39.940948   \n",
       "1                         -0.649570                    -40.035324   \n",
       "2                         -0.667130                    -40.176029   \n",
       "3                         -0.671159                    -40.133759   \n",
       "4                         -0.674985                    -40.125671   \n",
       "\n",
       "       mouse_top.mouse_top_0.hipl.likelihood  mouse_top.mouse_top_0.tailtip.x  \\\n",
       "frame                                                                           \n",
       "0                                   0.990868                        -5.254699   \n",
       "1                                   0.986213                        -5.271811   \n",
       "2                                   0.994684                        -5.245333   \n",
       "3                                   0.995407                        -5.219857   \n",
       "4                                   0.995498                        -5.226665   \n",
       "\n",
       "       mouse_top.mouse_top_0.tailtip.y  ...  mouse_top.mouse_top_0.hipr.z  \\\n",
       "frame                                   ...                                 \n",
       "0                            -3.813727  ...                    -39.823196   \n",
       "1                            -3.801921  ...                    -39.828449   \n",
       "2                            -3.776474  ...                    -39.798447   \n",
       "3                            -3.816592  ...                    -39.862801   \n",
       "4                            -3.831262  ...                    -39.943195   \n",
       "\n",
       "       mouse_top.mouse_top_0.hipr.likelihood  \\\n",
       "frame                                          \n",
       "0                                   0.991660   \n",
       "1                                   0.982737   \n",
       "2                                   0.993301   \n",
       "3                                   0.994313   \n",
       "4                                   0.994559   \n",
       "\n",
       "       mouse_top.mouse_top_0.tailbase.x  mouse_top.mouse_top_0.tailbase.y  \\\n",
       "frame                                                                       \n",
       "0                             -4.168034                         -1.209164   \n",
       "1                             -4.148322                         -1.222522   \n",
       "2                             -4.115750                         -1.227598   \n",
       "3                             -4.088741                         -1.258357   \n",
       "4                             -4.083255                         -1.271878   \n",
       "\n",
       "       mouse_top.mouse_top_0.tailbase.z  \\\n",
       "frame                                     \n",
       "0                            -40.272961   \n",
       "1                            -40.206238   \n",
       "2                            -40.146427   \n",
       "3                            -40.254684   \n",
       "4                            -40.232937   \n",
       "\n",
       "       mouse_top.mouse_top_0.tailbase.likelihood  \\\n",
       "frame                                              \n",
       "0                                       0.996973   \n",
       "1                                       0.991170   \n",
       "2                                       0.994142   \n",
       "3                                       0.993935   \n",
       "4                                       0.993917   \n",
       "\n",
       "       mouse_top.mouse_top_0.earr.x  mouse_top.mouse_top_0.earr.y  \\\n",
       "frame                                                               \n",
       "0                         -3.354022                      0.757436   \n",
       "1                         -3.437767                      0.726186   \n",
       "2                         -3.547476                      0.646108   \n",
       "3                         -3.728678                      0.534665   \n",
       "4                         -3.870338                      0.401776   \n",
       "\n",
       "       mouse_top.mouse_top_0.earr.z  mouse_top.mouse_top_0.earr.likelihood  \n",
       "frame                                                                       \n",
       "0                        -39.198807                               0.955978  \n",
       "1                        -39.485485                               0.947386  \n",
       "2                        -40.173813                               0.987677  \n",
       "3                        -39.913300                               0.996328  \n",
       "4                        -39.551277                               0.999238  \n",
       "\n",
       "[5 rows x 84 columns]"
      ]
     },
     "execution_count": 80,
     "metadata": {},
     "output_type": "execute_result"
    }
   ],
   "source": [
    "test3d.data.head()"
   ]
  },
  {
   "cell_type": "code",
   "execution_count": 81,
   "id": "c9f16caf",
   "metadata": {},
   "outputs": [
    {
     "name": "stdout",
     "output_type": "stream",
     "text": [
      "Scanning /Users/user/Desktop/FOKUS-PROJEKT/3d_stuff/oft_tracking/Empty_Cage/collection_test/ for recordings...\n",
      "  Checking /Users/user/Desktop/FOKUS-PROJEKT/3d_stuff/oft_tracking/Empty_Cage/collection_test/.DS_Store...\n",
      "    Not a directory, skipping.\n",
      "  Checking /Users/user/Desktop/FOKUS-PROJEKT/3d_stuff/oft_tracking/Empty_Cage/collection_test/video_1_3dset...\n"
     ]
    }
   ],
   "source": [
    "test3dcol = py3r.TrackingCollection.from_yolo3r_folder(\"/Users/user/Desktop/FOKUS-PROJEKT/3d_stuff/oft_tracking/Empty_Cage/collection_test/\",options,py3r.TrackingMV)"
   ]
  },
  {
   "cell_type": "code",
   "execution_count": 82,
   "id": "9be9f10d",
   "metadata": {},
   "outputs": [],
   "source": [
    "test3dcol_tri = test3dcol.stereo_triangulate()"
   ]
  },
  {
   "cell_type": "code",
   "execution_count": 83,
   "id": "ddb780c5",
   "metadata": {},
   "outputs": [
    {
     "data": {
      "text/plain": [
       "{'video_1_3dset': None}"
      ]
     },
     "execution_count": 83,
     "metadata": {},
     "output_type": "execute_result"
    }
   ],
   "source": [
    "test3dcol_tri.strip_column_names()"
   ]
  },
  {
   "cell_type": "code",
   "execution_count": 84,
   "id": "f9946e5f",
   "metadata": {},
   "outputs": [
    {
     "data": {
      "text/plain": [
       "{'video_1_3dset': ['top_tl',\n",
       "  'earl',\n",
       "  'br',\n",
       "  'bcl',\n",
       "  'bodycentre',\n",
       "  'tailcentre',\n",
       "  'tl',\n",
       "  'top_br',\n",
       "  'tailtip',\n",
       "  'tr',\n",
       "  'tailbase',\n",
       "  'headcentre',\n",
       "  'hipr',\n",
       "  'bl',\n",
       "  'bcr',\n",
       "  'hipl',\n",
       "  'earr',\n",
       "  'top_tr',\n",
       "  'top_bl',\n",
       "  'neck',\n",
       "  'nose']}"
      ]
     },
     "execution_count": 84,
     "metadata": {},
     "output_type": "execute_result"
    }
   ],
   "source": [
    "test3dcol_tri.get_point_names()"
   ]
  },
  {
   "cell_type": "code",
   "execution_count": 85,
   "id": "35d201e5",
   "metadata": {},
   "outputs": [
    {
     "data": {
      "text/plain": [
       "{'video_1_3dset': None}"
      ]
     },
     "execution_count": 85,
     "metadata": {},
     "output_type": "execute_result"
    }
   ],
   "source": [
    "test3dcol_tri.rescale_by_known_distance(\"tl\",\"br\",0.64,dims = (\"x\",\"y\",\"z\"))"
   ]
  },
  {
   "cell_type": "code",
   "execution_count": 86,
   "id": "a985a23c",
   "metadata": {},
   "outputs": [
    {
     "name": "stdout",
     "output_type": "stream",
     "text": [
      "\n",
      "Collection: <function BaseCollection.__getattr__.<locals>.batch_method at 0x17d82a2a0>\n"
     ]
    },
    {
     "data": {
      "image/png": "[encoded data removed]",
      "text/plain": [
       "<Figure size 500x500 with 1 Axes>"
      ]
     },
     "metadata": {},
     "output_type": "display_data"
    }
   ],
   "source": [
    "test3dcol_tri.plot(trajectories=[\"nose\"], static=[\"tl\", \"tr\", \"br\", \"bl\"], lines = [(\"tl\", \"tr\")], dims=(\"x\", \"y\", \"z\"))"
   ]
  },
  {
   "cell_type": "code",
   "execution_count": null,
   "id": "9d271464",
   "metadata": {},
   "outputs": [],
   "source": []
  },
  {
   "cell_type": "code",
   "execution_count": null,
   "id": "8c9ed96c",
   "metadata": {},
   "outputs": [],
   "source": []
  },
  {
   "cell_type": "code",
   "execution_count": null,
   "id": "39f1779d",
   "metadata": {},
   "outputs": [],
   "source": []
  },
  {
   "cell_type": "code",
   "execution_count": null,
   "id": "2439b62a",
   "metadata": {},
   "outputs": [],
   "source": []
  },
  {
   "cell_type": "code",
   "execution_count": null,
   "id": "fcc7c7ec",
   "metadata": {},
   "outputs": [],
   "source": []
  },
  {
   "cell_type": "code",
   "execution_count": null,
   "id": "7b1da669",
   "metadata": {},
   "outputs": [],
   "source": []
  },
  {
   "cell_type": "code",
   "execution_count": null,
   "id": "8d6e73b9",
   "metadata": {},
   "outputs": [],
   "source": []
  },
  {
   "cell_type": "code",
   "execution_count": null,
   "id": "e7b17a4c",
   "metadata": {},
   "outputs": [],
   "source": []
  },
  {
   "cell_type": "code",
   "execution_count": null,
   "id": "6490879f",
   "metadata": {},
   "outputs": [],
   "source": []
  }
 ],
 "metadata": {
  "kernelspec": {
   "display_name": "3dr",
   "language": "python",
   "name": "python3"
  },
  "language_info": {
   "codemirror_mode": {
    "name": "ipython",
    "version": 3
   },
   "file_extension": ".py",
   "mimetype": "text/x-python",
   "name": "python",
   "nbconvert_exporter": "python",
   "pygments_lexer": "ipython3",
   "version": "3.13.7"
  }
 },
 "nbformat": 4,
 "nbformat_minor": 5
}
