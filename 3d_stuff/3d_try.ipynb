{
 "cells": [
  {
   "cell_type": "code",
   "id": "de5dfc6b",
   "metadata": {
    "ExecuteTime": {
     "end_time": "2025-10-08T15:18:56.119166Z",
     "start_time": "2025-10-08T15:18:55.304016Z"
    }
   },
   "source": [
    "import py3r.behaviour as py3r"
   ],
   "outputs": [],
   "execution_count": 1
  },
  {
   "cell_type": "code",
   "id": "3dad0c70",
   "metadata": {
    "ExecuteTime": {
     "end_time": "2025-10-08T15:18:56.418160Z",
     "start_time": "2025-10-08T15:18:56.126365Z"
    }
   },
   "source": [
    "from py3r.behaviour.util import three_d_utils as td"
   ],
   "outputs": [],
   "execution_count": 2
  },
  {
   "cell_type": "code",
   "id": "730bc121",
   "metadata": {
    "ExecuteTime": {
     "end_time": "2025-10-08T15:18:56.431295Z",
     "start_time": "2025-10-08T15:18:56.428425Z"
    }
   },
   "source": [
    "import os\n",
    "os.getcwd()"
   ],
   "outputs": [
    {
     "data": {
      "text/plain": [
       "'/Users/nata/FocusProject/FOCUS PROJECT GIT/3d_stuff'"
      ]
     },
     "execution_count": 3,
     "metadata": {},
     "output_type": "execute_result"
    }
   ],
   "execution_count": 3
  },
  {
   "cell_type": "code",
   "id": "7a7b720c",
   "metadata": {
    "ExecuteTime": {
     "end_time": "2025-10-08T15:18:56.446907Z",
     "start_time": "2025-10-08T15:18:56.444806Z"
    }
   },
   "source": [
    "\"\"\"td.extract_calibration_images(\"C:/Users/admin/Desktop/2024 FP data/03.03.2025/calibration_camera-1.avi\", \"C:/Users/admin/Desktop/2024 FP data/03.03.2025/calibration_camera-2.avi\", \"./left_output\",\"./right_output\", chessboard_size = (8,6),\n",
    "min_sharpness=0,\n",
    "max_anisotropy=10000,\n",
    "min_edge_density=0.000001)\"\"\""
   ],
   "outputs": [
    {
     "data": {
      "text/plain": [
       "'td.extract_calibration_images(\"C:/Users/admin/Desktop/2024 FP data/03.03.2025/calibration_camera-1.avi\", \"C:/Users/admin/Desktop/2024 FP data/03.03.2025/calibration_camera-2.avi\", \"./left_output\",\"./right_output\", chessboard_size = (8,6),\\nmin_sharpness=0,\\nmax_anisotropy=10000,\\nmin_edge_density=0.000001)'"
      ]
     },
     "execution_count": 4,
     "metadata": {},
     "output_type": "execute_result"
    }
   ],
   "execution_count": 4
  },
  {
   "cell_type": "code",
   "id": "965d9032",
   "metadata": {
    "ExecuteTime": {
     "end_time": "2025-10-08T15:18:56.455212Z",
     "start_time": "2025-10-08T15:18:56.453725Z"
    }
   },
   "source": "#td.calibrate_stereo_system(\"./left_output\",\"./right_output\",(8,6),0.03, \"./calibration.json\")",
   "outputs": [],
   "execution_count": 5
  },
  {
   "cell_type": "code",
   "id": "97495c09",
   "metadata": {
    "ExecuteTime": {
     "end_time": "2025-10-08T15:18:56.462175Z",
     "start_time": "2025-10-08T15:18:56.460887Z"
    }
   },
   "source": [
    "from py3r.behaviour.tracking.tracking import LoadOptions as opt\n",
    "\n",
    "options = opt(fps=30)"
   ],
   "outputs": [],
   "execution_count": 6
  },
  {
   "cell_type": "code",
   "id": "2888b99e",
   "metadata": {
    "ExecuteTime": {
     "end_time": "2025-10-08T15:18:56.566555Z",
     "start_time": "2025-10-08T15:18:56.465418Z"
    }
   },
   "source": [
    "import json\n",
    "\n",
    "with open('calibration.json') as f:\n",
    "    calibration = json.load(f)"
   ],
   "outputs": [
    {
     "ename": "FileNotFoundError",
     "evalue": "[Errno 2] No such file or directory: 'calibration.json'",
     "output_type": "error",
     "traceback": [
      "\u001B[31m---------------------------------------------------------------------------\u001B[39m",
      "\u001B[31mFileNotFoundError\u001B[39m                         Traceback (most recent call last)",
      "\u001B[36mCell\u001B[39m\u001B[36m \u001B[39m\u001B[32mIn[7]\u001B[39m\u001B[32m, line 3\u001B[39m\n\u001B[32m      1\u001B[39m \u001B[38;5;28;01mimport\u001B[39;00m\u001B[38;5;250m \u001B[39m\u001B[34;01mjson\u001B[39;00m\n\u001B[32m----> \u001B[39m\u001B[32m3\u001B[39m \u001B[38;5;28;01mwith\u001B[39;00m \u001B[38;5;28;43mopen\u001B[39;49m\u001B[43m(\u001B[49m\u001B[33;43m'\u001B[39;49m\u001B[33;43mcalibration.json\u001B[39;49m\u001B[33;43m'\u001B[39;49m\u001B[43m)\u001B[49m \u001B[38;5;28;01mas\u001B[39;00m f:\n\u001B[32m      4\u001B[39m     calibration = json.load(f)\n",
      "\u001B[36mFile \u001B[39m\u001B[32m~/FocusProject/FOCUS PROJECT GIT/.venv/lib/python3.11/site-packages/IPython/core/interactiveshell.py:343\u001B[39m, in \u001B[36m_modified_open\u001B[39m\u001B[34m(file, *args, **kwargs)\u001B[39m\n\u001B[32m    336\u001B[39m \u001B[38;5;28;01mif\u001B[39;00m file \u001B[38;5;129;01min\u001B[39;00m {\u001B[32m0\u001B[39m, \u001B[32m1\u001B[39m, \u001B[32m2\u001B[39m}:\n\u001B[32m    337\u001B[39m     \u001B[38;5;28;01mraise\u001B[39;00m \u001B[38;5;167;01mValueError\u001B[39;00m(\n\u001B[32m    338\u001B[39m         \u001B[33mf\u001B[39m\u001B[33m\"\u001B[39m\u001B[33mIPython won\u001B[39m\u001B[33m'\u001B[39m\u001B[33mt let you open fd=\u001B[39m\u001B[38;5;132;01m{\u001B[39;00mfile\u001B[38;5;132;01m}\u001B[39;00m\u001B[33m by default \u001B[39m\u001B[33m\"\u001B[39m\n\u001B[32m    339\u001B[39m         \u001B[33m\"\u001B[39m\u001B[33mas it is likely to crash IPython. If you know what you are doing, \u001B[39m\u001B[33m\"\u001B[39m\n\u001B[32m    340\u001B[39m         \u001B[33m\"\u001B[39m\u001B[33myou can use builtins\u001B[39m\u001B[33m'\u001B[39m\u001B[33m open.\u001B[39m\u001B[33m\"\u001B[39m\n\u001B[32m    341\u001B[39m     )\n\u001B[32m--> \u001B[39m\u001B[32m343\u001B[39m \u001B[38;5;28;01mreturn\u001B[39;00m \u001B[43mio_open\u001B[49m\u001B[43m(\u001B[49m\u001B[43mfile\u001B[49m\u001B[43m,\u001B[49m\u001B[43m \u001B[49m\u001B[43m*\u001B[49m\u001B[43margs\u001B[49m\u001B[43m,\u001B[49m\u001B[43m \u001B[49m\u001B[43m*\u001B[49m\u001B[43m*\u001B[49m\u001B[43mkwargs\u001B[49m\u001B[43m)\u001B[49m\n",
      "\u001B[31mFileNotFoundError\u001B[39m: [Errno 2] No such file or directory: 'calibration.json'"
     ]
    }
   ],
   "execution_count": 7
  },
  {
   "cell_type": "code",
   "id": "c64d424d",
   "metadata": {
    "ExecuteTime": {
     "end_time": "2025-10-08T15:18:56.572514Z",
     "start_time": "2025-10-08T11:19:22.320362Z"
    }
   },
   "source": [
    "from py3r.behaviour.tracking.tracking_mv import TrackingMV as mv\n",
    "\n",
    "test = mv.from_yolo3r({\"left_output\":\"oft_tracking/Empty_Cage/Empty_Cage_Left/1_Empty_Cage_Left_Sync.csv\", \"right_output\":\"oft_tracking/Empty_Cage/Empty_Cage_Right/1_Empty_Cage_Right_Sync.csv\"},\"1_Empty_Cage_multiview\",\n",
    "                      options,calibration)"
   ],
   "outputs": [],
   "execution_count": 80
  },
  {
   "cell_type": "code",
   "id": "2a0e1dab",
   "metadata": {
    "ExecuteTime": {
     "end_time": "2025-10-08T15:18:56.573255Z",
     "start_time": "2025-10-08T11:19:22.481201Z"
    }
   },
   "source": [
    "test.calibration"
   ],
   "outputs": [
    {
     "data": {
      "text/plain": [
       "{'views': {'left_output': {'K': [[1258.4939885943727, 0.0, 655.3579291157758],\n",
       "    [0.0, 1258.2801290096213, 509.1000476008892],\n",
       "    [0.0, 0.0, 1.0]],\n",
       "   'dist': [[-0.5515009811671181,\n",
       "     0.5781636665271928,\n",
       "     -0.001643548714124342,\n",
       "     0.0037264487542169136,\n",
       "     -0.40246624215916277]]},\n",
       "  'right_output': {'K': [[1258.4939885943727, 0.0, 655.3579291157758],\n",
       "    [0.0, 1258.2801290096213, 509.1000476008892],\n",
       "    [0.0, 0.0, 1.0]],\n",
       "   'dist': [[-0.5515009811671181,\n",
       "     0.5781636665271928,\n",
       "     -0.001643548714124342,\n",
       "     0.0037264487542169136,\n",
       "     -0.40246624215916277]]}},\n",
       " 'relative_pose': {'R': [[0.9987219358926075,\n",
       "    -0.0007670268613101093,\n",
       "    -0.050536189376686386],\n",
       "   [-0.0009897220653084478, 0.999396310897444, -0.034728003323152366],\n",
       "   [0.0505323185412635, 0.03473363549030636, 0.9981182592000162]],\n",
       "  'T': [[11.991812240469235], [0.6439511868380962], [1.239601519329197]]},\n",
       " 'image_size': [1280, 1024],\n",
       " 'view_order': ['left_output', 'right_output']}"
      ]
     },
     "execution_count": 81,
     "metadata": {},
     "output_type": "execute_result"
    }
   ],
   "execution_count": 81
  },
  {
   "cell_type": "code",
   "id": "d73b9a46",
   "metadata": {
    "ExecuteTime": {
     "end_time": "2025-10-08T15:18:56.573549Z",
     "start_time": "2025-10-08T11:19:22.504903Z"
    }
   },
   "source": [
    "test3d = test.stereo_triangulate()\n"
   ],
   "outputs": [],
   "execution_count": 82
  },
  {
   "cell_type": "code",
   "id": "01c5ef32",
   "metadata": {
    "ExecuteTime": {
     "end_time": "2025-10-08T15:18:56.573729Z",
     "start_time": "2025-10-08T11:19:22.760090Z"
    }
   },
   "source": [
    "test3d.data.head()"
   ],
   "outputs": [
    {
     "data": {
      "text/plain": [
       "       mouse_top.mouse_top_0.hipr.x  mouse_top.mouse_top_0.hipr.y  \\\n",
       "frame                                                               \n",
       "0                         -4.572451                     -0.384620   \n",
       "1                         -4.543757                     -0.404621   \n",
       "2                         -4.532341                     -0.398691   \n",
       "3                         -4.508412                     -0.420558   \n",
       "4                         -4.490048                     -0.439867   \n",
       "\n",
       "       mouse_top.mouse_top_0.hipr.z  mouse_top.mouse_top_0.hipr.likelihood  \\\n",
       "frame                                                                        \n",
       "0                        -39.823196                               0.991660   \n",
       "1                        -39.828449                               0.982737   \n",
       "2                        -39.798447                               0.993301   \n",
       "3                        -39.862801                               0.994313   \n",
       "4                        -39.943195                               0.994559   \n",
       "\n",
       "       oft_3d.oft_3d_0.top_bl.x  oft_3d.oft_3d_0.top_bl.y  \\\n",
       "frame                                                       \n",
       "0                           NaN                       NaN   \n",
       "1                           NaN                       NaN   \n",
       "2                           NaN                       NaN   \n",
       "3                           NaN                       NaN   \n",
       "4                           NaN                       NaN   \n",
       "\n",
       "       oft_3d.oft_3d_0.top_bl.z  oft_3d.oft_3d_0.top_bl.likelihood  \\\n",
       "frame                                                                \n",
       "0                           NaN                                NaN   \n",
       "1                           NaN                                NaN   \n",
       "2                           NaN                                NaN   \n",
       "3                           NaN                                NaN   \n",
       "4                           NaN                                NaN   \n",
       "\n",
       "       mouse_top.mouse_top_0.headcentre.x  mouse_top.mouse_top_0.headcentre.y  \\\n",
       "frame                                                                           \n",
       "0                               -2.956125                            0.661536   \n",
       "1                               -3.037738                            0.704866   \n",
       "2                               -3.180723                            0.707178   \n",
       "3                               -3.372048                            0.661076   \n",
       "4                               -3.513296                            0.588129   \n",
       "\n",
       "       ...  mouse_top.mouse_top_0.tailtip.z  \\\n",
       "frame  ...                                    \n",
       "0      ...                       -40.603134   \n",
       "1      ...                       -40.407459   \n",
       "2      ...                       -40.489090   \n",
       "3      ...                       -40.510830   \n",
       "4      ...                       -40.421158   \n",
       "\n",
       "       mouse_top.mouse_top_0.tailtip.likelihood  mouse_top.mouse_top_0.hipl.x  \\\n",
       "frame                                                                           \n",
       "0                                      0.968371                     -3.369111   \n",
       "1                                      0.918192                     -3.345030   \n",
       "2                                      0.919053                     -3.322074   \n",
       "3                                      0.900391                     -3.304535   \n",
       "4                                      0.898111                     -3.301585   \n",
       "\n",
       "       mouse_top.mouse_top_0.hipl.y  mouse_top.mouse_top_0.hipl.z  \\\n",
       "frame                                                               \n",
       "0                         -0.634645                    -39.940948   \n",
       "1                         -0.649570                    -40.035324   \n",
       "2                         -0.667130                    -40.176029   \n",
       "3                         -0.671159                    -40.133759   \n",
       "4                         -0.674985                    -40.125671   \n",
       "\n",
       "       mouse_top.mouse_top_0.hipl.likelihood  oft_3d.oft_3d_0.top_br.x  \\\n",
       "frame                                                                    \n",
       "0                                   0.990868                       NaN   \n",
       "1                                   0.986213                       NaN   \n",
       "2                                   0.994684                       NaN   \n",
       "3                                   0.995407                       NaN   \n",
       "4                                   0.995498                       NaN   \n",
       "\n",
       "       oft_3d.oft_3d_0.top_br.y  oft_3d.oft_3d_0.top_br.z  \\\n",
       "frame                                                       \n",
       "0                           NaN                       NaN   \n",
       "1                           NaN                       NaN   \n",
       "2                           NaN                       NaN   \n",
       "3                           NaN                       NaN   \n",
       "4                           NaN                       NaN   \n",
       "\n",
       "       oft_3d.oft_3d_0.top_br.likelihood  \n",
       "frame                                     \n",
       "0                                    NaN  \n",
       "1                                    NaN  \n",
       "2                                    NaN  \n",
       "3                                    NaN  \n",
       "4                                    NaN  \n",
       "\n",
       "[5 rows x 84 columns]"
      ],
      "text/html": [
       "<div>\n",
       "<style scoped>\n",
       "    .dataframe tbody tr th:only-of-type {\n",
       "        vertical-align: middle;\n",
       "    }\n",
       "\n",
       "    .dataframe tbody tr th {\n",
       "        vertical-align: top;\n",
       "    }\n",
       "\n",
       "    .dataframe thead th {\n",
       "        text-align: right;\n",
       "    }\n",
       "</style>\n",
       "<table border=\"1\" class=\"dataframe\">\n",
       "  <thead>\n",
       "    <tr style=\"text-align: right;\">\n",
       "      <th></th>\n",
       "      <th>mouse_top.mouse_top_0.hipr.x</th>\n",
       "      <th>mouse_top.mouse_top_0.hipr.y</th>\n",
       "      <th>mouse_top.mouse_top_0.hipr.z</th>\n",
       "      <th>mouse_top.mouse_top_0.hipr.likelihood</th>\n",
       "      <th>oft_3d.oft_3d_0.top_bl.x</th>\n",
       "      <th>oft_3d.oft_3d_0.top_bl.y</th>\n",
       "      <th>oft_3d.oft_3d_0.top_bl.z</th>\n",
       "      <th>oft_3d.oft_3d_0.top_bl.likelihood</th>\n",
       "      <th>mouse_top.mouse_top_0.headcentre.x</th>\n",
       "      <th>mouse_top.mouse_top_0.headcentre.y</th>\n",
       "      <th>...</th>\n",
       "      <th>mouse_top.mouse_top_0.tailtip.z</th>\n",
       "      <th>mouse_top.mouse_top_0.tailtip.likelihood</th>\n",
       "      <th>mouse_top.mouse_top_0.hipl.x</th>\n",
       "      <th>mouse_top.mouse_top_0.hipl.y</th>\n",
       "      <th>mouse_top.mouse_top_0.hipl.z</th>\n",
       "      <th>mouse_top.mouse_top_0.hipl.likelihood</th>\n",
       "      <th>oft_3d.oft_3d_0.top_br.x</th>\n",
       "      <th>oft_3d.oft_3d_0.top_br.y</th>\n",
       "      <th>oft_3d.oft_3d_0.top_br.z</th>\n",
       "      <th>oft_3d.oft_3d_0.top_br.likelihood</th>\n",
       "    </tr>\n",
       "    <tr>\n",
       "      <th>frame</th>\n",
       "      <th></th>\n",
       "      <th></th>\n",
       "      <th></th>\n",
       "      <th></th>\n",
       "      <th></th>\n",
       "      <th></th>\n",
       "      <th></th>\n",
       "      <th></th>\n",
       "      <th></th>\n",
       "      <th></th>\n",
       "      <th></th>\n",
       "      <th></th>\n",
       "      <th></th>\n",
       "      <th></th>\n",
       "      <th></th>\n",
       "      <th></th>\n",
       "      <th></th>\n",
       "      <th></th>\n",
       "      <th></th>\n",
       "      <th></th>\n",
       "      <th></th>\n",
       "    </tr>\n",
       "  </thead>\n",
       "  <tbody>\n",
       "    <tr>\n",
       "      <th>0</th>\n",
       "      <td>-4.572451</td>\n",
       "      <td>-0.384620</td>\n",
       "      <td>-39.823196</td>\n",
       "      <td>0.991660</td>\n",
       "      <td>NaN</td>\n",
       "      <td>NaN</td>\n",
       "      <td>NaN</td>\n",
       "      <td>NaN</td>\n",
       "      <td>-2.956125</td>\n",
       "      <td>0.661536</td>\n",
       "      <td>...</td>\n",
       "      <td>-40.603134</td>\n",
       "      <td>0.968371</td>\n",
       "      <td>-3.369111</td>\n",
       "      <td>-0.634645</td>\n",
       "      <td>-39.940948</td>\n",
       "      <td>0.990868</td>\n",
       "      <td>NaN</td>\n",
       "      <td>NaN</td>\n",
       "      <td>NaN</td>\n",
       "      <td>NaN</td>\n",
       "    </tr>\n",
       "    <tr>\n",
       "      <th>1</th>\n",
       "      <td>-4.543757</td>\n",
       "      <td>-0.404621</td>\n",
       "      <td>-39.828449</td>\n",
       "      <td>0.982737</td>\n",
       "      <td>NaN</td>\n",
       "      <td>NaN</td>\n",
       "      <td>NaN</td>\n",
       "      <td>NaN</td>\n",
       "      <td>-3.037738</td>\n",
       "      <td>0.704866</td>\n",
       "      <td>...</td>\n",
       "      <td>-40.407459</td>\n",
       "      <td>0.918192</td>\n",
       "      <td>-3.345030</td>\n",
       "      <td>-0.649570</td>\n",
       "      <td>-40.035324</td>\n",
       "      <td>0.986213</td>\n",
       "      <td>NaN</td>\n",
       "      <td>NaN</td>\n",
       "      <td>NaN</td>\n",
       "      <td>NaN</td>\n",
       "    </tr>\n",
       "    <tr>\n",
       "      <th>2</th>\n",
       "      <td>-4.532341</td>\n",
       "      <td>-0.398691</td>\n",
       "      <td>-39.798447</td>\n",
       "      <td>0.993301</td>\n",
       "      <td>NaN</td>\n",
       "      <td>NaN</td>\n",
       "      <td>NaN</td>\n",
       "      <td>NaN</td>\n",
       "      <td>-3.180723</td>\n",
       "      <td>0.707178</td>\n",
       "      <td>...</td>\n",
       "      <td>-40.489090</td>\n",
       "      <td>0.919053</td>\n",
       "      <td>-3.322074</td>\n",
       "      <td>-0.667130</td>\n",
       "      <td>-40.176029</td>\n",
       "      <td>0.994684</td>\n",
       "      <td>NaN</td>\n",
       "      <td>NaN</td>\n",
       "      <td>NaN</td>\n",
       "      <td>NaN</td>\n",
       "    </tr>\n",
       "    <tr>\n",
       "      <th>3</th>\n",
       "      <td>-4.508412</td>\n",
       "      <td>-0.420558</td>\n",
       "      <td>-39.862801</td>\n",
       "      <td>0.994313</td>\n",
       "      <td>NaN</td>\n",
       "      <td>NaN</td>\n",
       "      <td>NaN</td>\n",
       "      <td>NaN</td>\n",
       "      <td>-3.372048</td>\n",
       "      <td>0.661076</td>\n",
       "      <td>...</td>\n",
       "      <td>-40.510830</td>\n",
       "      <td>0.900391</td>\n",
       "      <td>-3.304535</td>\n",
       "      <td>-0.671159</td>\n",
       "      <td>-40.133759</td>\n",
       "      <td>0.995407</td>\n",
       "      <td>NaN</td>\n",
       "      <td>NaN</td>\n",
       "      <td>NaN</td>\n",
       "      <td>NaN</td>\n",
       "    </tr>\n",
       "    <tr>\n",
       "      <th>4</th>\n",
       "      <td>-4.490048</td>\n",
       "      <td>-0.439867</td>\n",
       "      <td>-39.943195</td>\n",
       "      <td>0.994559</td>\n",
       "      <td>NaN</td>\n",
       "      <td>NaN</td>\n",
       "      <td>NaN</td>\n",
       "      <td>NaN</td>\n",
       "      <td>-3.513296</td>\n",
       "      <td>0.588129</td>\n",
       "      <td>...</td>\n",
       "      <td>-40.421158</td>\n",
       "      <td>0.898111</td>\n",
       "      <td>-3.301585</td>\n",
       "      <td>-0.674985</td>\n",
       "      <td>-40.125671</td>\n",
       "      <td>0.995498</td>\n",
       "      <td>NaN</td>\n",
       "      <td>NaN</td>\n",
       "      <td>NaN</td>\n",
       "      <td>NaN</td>\n",
       "    </tr>\n",
       "  </tbody>\n",
       "</table>\n",
       "<p>5 rows × 84 columns</p>\n",
       "</div>"
      ]
     },
     "execution_count": 83,
     "metadata": {},
     "output_type": "execute_result"
    }
   ],
   "execution_count": 83
  },
  {
   "cell_type": "code",
   "id": "c9f16caf",
   "metadata": {
    "ExecuteTime": {
     "end_time": "2025-10-08T15:18:56.574882Z",
     "start_time": "2025-10-08T11:19:22.794358Z"
    }
   },
   "source": "test3dcol = py3r.TrackingCollection.from_yolo3r_folder(\"./oft_tracking/Empty_Cage/collection_test/\",options,py3r.TrackingMV)",
   "outputs": [
    {
     "name": "stdout",
     "output_type": "stream",
     "text": [
      "Scanning ./oft_tracking/Empty_Cage/collection_test/ for recordings...\n",
      "  Checking ./oft_tracking/Empty_Cage/collection_test/video_1_3dset...\n"
     ]
    }
   ],
   "execution_count": 84
  },
  {
   "cell_type": "code",
   "id": "9be9f10d",
   "metadata": {
    "ExecuteTime": {
     "end_time": "2025-10-08T15:18:56.575190Z",
     "start_time": "2025-10-08T11:19:22.985871Z"
    }
   },
   "source": [
    "test3dcol_tri = test3dcol.stereo_triangulate()"
   ],
   "outputs": [],
   "execution_count": 85
  },
  {
   "cell_type": "code",
   "id": "ddb780c5",
   "metadata": {
    "ExecuteTime": {
     "end_time": "2025-10-08T15:18:56.575397Z",
     "start_time": "2025-10-08T11:19:23.239605Z"
    }
   },
   "source": [
    "test3dcol_tri.strip_column_names()"
   ],
   "outputs": [
    {
     "data": {
      "text/plain": [
       "{'video_1_3dset': None}"
      ]
     },
     "execution_count": 86,
     "metadata": {},
     "output_type": "execute_result"
    }
   ],
   "execution_count": 86
  },
  {
   "cell_type": "code",
   "id": "f9946e5f",
   "metadata": {
    "ExecuteTime": {
     "end_time": "2025-10-08T15:18:56.575590Z",
     "start_time": "2025-10-08T11:19:23.249161Z"
    }
   },
   "source": [
    "test3dcol_tri.get_point_names()"
   ],
   "outputs": [
    {
     "data": {
      "text/plain": [
       "{'video_1_3dset': ['tl',\n",
       "  'earr',\n",
       "  'br',\n",
       "  'tailtip',\n",
       "  'hipl',\n",
       "  'bodycentre',\n",
       "  'top_bl',\n",
       "  'bcr',\n",
       "  'top_br',\n",
       "  'bcl',\n",
       "  'tailbase',\n",
       "  'nose',\n",
       "  'bl',\n",
       "  'tailcentre',\n",
       "  'top_tr',\n",
       "  'earl',\n",
       "  'neck',\n",
       "  'tr',\n",
       "  'headcentre',\n",
       "  'hipr',\n",
       "  'top_tl']}"
      ]
     },
     "execution_count": 87,
     "metadata": {},
     "output_type": "execute_result"
    }
   ],
   "execution_count": 87
  },
  {
   "metadata": {
    "ExecuteTime": {
     "end_time": "2025-10-08T15:18:56.576327Z",
     "start_time": "2025-10-08T11:19:23.257669Z"
    }
   },
   "cell_type": "code",
   "source": "test3dcol_tri.plot(trajectories=[\"nose\"], static=[\"tl\", \"tr\", \"br\", \"bl\"], lines = [(\"tl\", \"tr\")], dims=(\"x\", \"y\", \"z\"))",
   "id": "9d3abba6c34f806f",
   "outputs": [
    {
     "name": "stdout",
     "output_type": "stream",
     "text": [
      "\n",
      "Collection: <function BaseCollection.__getattr__.<locals>.batch_method at 0x315e637e0>\n"
     ]
    },
    {
     "data": {
      "text/plain": [
       "<Figure size 500x500 with 1 Axes>"
      ],
      "image/png": "[encoded data removed]"
     },
     "metadata": {},
     "output_type": "display_data",
     "jetTransient": {
      "display_id": null
     }
    }
   ],
   "execution_count": 88
  },
  {
   "metadata": {
    "ExecuteTime": {
     "end_time": "2025-10-08T15:18:56.576677Z",
     "start_time": "2025-10-08T11:19:23.331643Z"
    }
   },
   "cell_type": "code",
   "source": [
    "py3r.Tracking.rescale_by_known_distance\n",
    "\n",
    "test3dcol_tri.rescale_by_known_distance(\"tl\",\"br\", 0.64, dims = (\"x\",\"y\",\"z\"))"
   ],
   "id": "defcad4c668b852b",
   "outputs": [
    {
     "data": {
      "text/plain": [
       "{'video_1_3dset': None}"
      ]
     },
     "execution_count": 89,
     "metadata": {},
     "output_type": "execute_result"
    }
   ],
   "execution_count": 89
  }
 ],
 "metadata": {
  "kernelspec": {
   "display_name": "3dr",
   "language": "python",
   "name": "python3"
  },
  "language_info": {
   "codemirror_mode": {
    "name": "ipython",
    "version": 3
   },
   "file_extension": ".py",
   "mimetype": "text/x-python",
   "name": "python",
   "nbconvert_exporter": "python",
   "pygments_lexer": "ipython3",
   "version": "3.13.7"
  }
 },
 "nbformat": 4,
 "nbformat_minor": 5
}
