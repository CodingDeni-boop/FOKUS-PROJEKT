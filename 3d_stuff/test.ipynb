{
 "cells": [
  {
   "cell_type": "code",
   "id": "initial_id",
   "metadata": {
    "collapsed": true,
    "ExecuteTime": {
     "end_time": "2025-10-13T13:07:28.126412Z",
     "start_time": "2025-10-13T13:07:26.130791Z"
    }
   },
   "source": [
    "import pandas as pd\n",
    "import py3r.behaviour as py3r\n",
    "from py3r.behaviour.tracking.tracking import LoadOptions as opt\n",
    "import json\n",
    "from py3r.behaviour.tracking.tracking_mv import TrackingMV as mv\n",
    "from py3r.behaviour.features.features import Features\n",
    "from py3r.behaviour.features.features_collection import FeaturesCollection\n",
    "from py3r.behaviour.features.features_result import FeaturesResult\n",
    "from sklearn import calibration\n",
    "\n",
    "options = opt(fps=30)\n",
    "\n",
    "with open('oft_tracking/Empty_Cage/collection_test/video_1_3dset/calibration.json') as f:\n",
    "   calibration = json.load(f)\n",
    "\n",
    "test = mv.from_yolo3r({\"left_output\": \"oft_tracking/Empty_Cage/collection_test/video_1_3dset/left_output.csv\",\n",
    "                        \"right_output\":\"oft_tracking/Empty_Cage/collection_test/video_1_3dset/right_output.csv\"},\"1_Empty_Cage_multiview\",\n",
    "                      options, calibration)\n",
    "\n",
    "test3d = test.stereo_triangulate()\n",
    "\n",
    "test3dcol = py3r.TrackingCollection.from_yolo3r_folder(\"./oft_tracking/Empty_Cage/collection_test/\",options,py3r.TrackingMV)\n",
    "\n",
    "# only 1 video, how to do for several?????????\n",
    "\n",
    "test3dcol_tri = test3dcol.stereo_triangulate()\n",
    "\n",
    "################################## MY STUFF ############################################################################\n",
    "\n",
    "test3dcol_tri.strip_column_names()"
   ],
   "outputs": [
    {
     "name": "stdout",
     "output_type": "stream",
     "text": [
      "Scanning ./oft_tracking/Empty_Cage/collection_test/ for recordings...\n",
      "  Checking ./oft_tracking/Empty_Cage/collection_test/.DS_Store...\n",
      "    Not a directory, skipping.\n",
      "  Checking ./oft_tracking/Empty_Cage/collection_test/video_1_3dset...\n"
     ]
    },
    {
     "data": {
      "text/plain": [
       "{'video_1_3dset': None}"
      ]
     },
     "execution_count": 1,
     "metadata": {},
     "output_type": "execute_result"
    }
   ],
   "execution_count": 1
  },
  {
   "metadata": {
    "ExecuteTime": {
     "end_time": "2025-10-13T13:07:58.269588Z",
     "start_time": "2025-10-13T13:07:58.267181Z"
    }
   },
   "cell_type": "code",
   "source": "test3dcol_tri",
   "id": "b64ea971bbe46bcb",
   "outputs": [
    {
     "data": {
      "text/plain": [
       "<TrackingCollection with 1 Tracking objects>"
      ]
     },
     "execution_count": 2,
     "metadata": {},
     "output_type": "execute_result"
    }
   ],
   "execution_count": 2
  },
  {
   "metadata": {
    "ExecuteTime": {
     "end_time": "2025-10-13T13:13:45.157199Z",
     "start_time": "2025-10-13T13:13:45.153365Z"
    }
   },
   "cell_type": "code",
   "source": "test3dcol_tri[0].handle",
   "id": "38ad7223e132de56",
   "outputs": [
    {
     "data": {
      "text/plain": [
       "'video_1_3dset'"
      ]
     },
     "execution_count": 7,
     "metadata": {},
     "output_type": "execute_result"
    }
   ],
   "execution_count": 7
  },
  {
   "metadata": {
    "ExecuteTime": {
     "end_time": "2025-10-13T13:08:23.536435Z",
     "start_time": "2025-10-13T13:08:23.531488Z"
    }
   },
   "cell_type": "code",
   "source": [
    "# test3dcol_tri is TrackingCollection\n",
    "features_collection = py3r.FeaturesCollection.from_tracking_collection(test3dcol_tri)\n"
   ],
   "id": "e0f96cdf525999d7",
   "outputs": [
    {
     "name": "stderr",
     "output_type": "stream",
     "text": [
      "/Users/nata/FocusProject/py3r_behaviour/src/py3r/behaviour/features/features.py:50: UserWarning: distance has not been calibrated on these tracking data. some methods will be unavailable\n",
      "  warnings.warn(\n"
     ]
    }
   ],
   "execution_count": 3
  },
  {
   "metadata": {
    "ExecuteTime": {
     "end_time": "2025-10-13T13:15:42.982710Z",
     "start_time": "2025-10-13T13:15:42.978386Z"
    }
   },
   "cell_type": "code",
   "source": "features_collection.azimuth('nose','neck').store()",
   "id": "94be69fc7d60f591",
   "outputs": [
    {
     "name": "stderr",
     "output_type": "stream",
     "text": [
      "/Users/nata/FocusProject/py3r_behaviour/src/py3r/behaviour/features/features.py:387: UserWarning: tracking data have not been smoothed\n",
      "  warnings.warn(\"tracking data have not been smoothed\")\n"
     ]
    }
   ],
   "execution_count": 13
  },
  {
   "metadata": {
    "ExecuteTime": {
     "end_time": "2025-10-13T13:15:52.566484Z",
     "start_time": "2025-10-13T13:15:52.563124Z"
    }
   },
   "cell_type": "code",
   "source": "features_collection[0].data.columns",
   "id": "b9fb476dcb2afc52",
   "outputs": [
    {
     "data": {
      "text/plain": [
       "Index(['azimuth_from_nose_to_neck', 'anothername'], dtype='object')"
      ]
     },
     "execution_count": 14,
     "metadata": {},
     "output_type": "execute_result"
    }
   ],
   "execution_count": 14
  },
  {
   "metadata": {
    "ExecuteTime": {
     "end_time": "2025-10-13T13:16:51.202042Z",
     "start_time": "2025-10-13T13:16:51.194578Z"
    }
   },
   "cell_type": "code",
   "source": "features_collection[0].data['azimuth_from_nose_to_neck'] == features_collection[0].data['anothername']",
   "id": "da51b74db9a7ceaf",
   "outputs": [
    {
     "data": {
      "text/plain": [
       "frame\n",
       "0        False\n",
       "1         True\n",
       "2         True\n",
       "3         True\n",
       "4         True\n",
       "         ...  \n",
       "18059    False\n",
       "18060     True\n",
       "18061     True\n",
       "18062     True\n",
       "18063     True\n",
       "Length: 18064, dtype: bool"
      ]
     },
     "execution_count": 15,
     "metadata": {},
     "output_type": "execute_result"
    }
   ],
   "execution_count": 15
  },
  {
   "metadata": {},
   "cell_type": "code",
   "outputs": [],
   "execution_count": null,
   "source": [
    "\n",
    "# Calculate azimuth from 'nose' to 'neck' across all tracking objects\n",
    "azimuth_results = features_collection.azimuth('nose', 'neck')\n",
    "print(f\"Calculated azimuth for {len(azimuth_results)} tracking objects\")"
   ],
   "id": "a80778683100994d"
  }
 ],
 "metadata": {
  "kernelspec": {
   "display_name": "Python 3",
   "language": "python",
   "name": "python3"
  },
  "language_info": {
   "codemirror_mode": {
    "name": "ipython",
    "version": 2
   },
   "file_extension": ".py",
   "mimetype": "text/x-python",
   "name": "python",
   "nbconvert_exporter": "python",
   "pygments_lexer": "ipython2",
   "version": "2.7.6"
  }
 },
 "nbformat": 4,
 "nbformat_minor": 5
}
